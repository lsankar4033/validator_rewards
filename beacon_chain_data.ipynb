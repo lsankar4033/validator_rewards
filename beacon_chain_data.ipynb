{
 "cells": [
  {
   "cell_type": "markdown",
   "metadata": {},
   "source": [
    "# Things to look at\n",
    "* proportion of validators with effective balance below 32 ETH\n",
    "* distribution of validator incomes\n",
    "* comparison of average validator reward with the expected case from the model\n",
    "* per-validator breakdown explaining why they fell short of the maximum possible (missed attestations, missed proposals, incorrect target/head, delayed inclusion)\n",
    "* per-validator stats (longest outage, longest streak, uptime, proposal opportunities (how lucky?), proportion of successful proposals, inclusion delays (delay due to missed block versus not included in block - how lucky?)"
   ]
  },
  {
   "cell_type": "code",
   "execution_count": 13,
   "metadata": {
    "code_folding": []
   },
   "outputs": [],
   "source": [
    "# imports\n",
    "import time\n",
    "\n",
    "import psycopg2\n",
    "import matplotlib.pyplot as plt\n",
    "import pandas as pd"
   ]
  },
  {
   "cell_type": "code",
   "execution_count": 10,
   "metadata": {
    "code_folding": [
     0
    ]
   },
   "outputs": [],
   "source": [
    "# open/restart connection to chaind database\n",
    "try:\n",
    "    cursor.close()\n",
    "    connection.close()\n",
    "except:\n",
    "    pass\n",
    "\n",
    "connection = psycopg2.connect(user=\"chain\", host=\"127.0.0.1\", database=\"chain\", password=\"medalla\")\n",
    "cursor = connection.cursor()"
   ]
  },
  {
   "cell_type": "code",
   "execution_count": 3,
   "metadata": {
    "code_folding": [
     0
    ]
   },
   "outputs": [
    {
     "name": "stdout",
     "output_type": "stream",
     "text": [
      "latest slot: 936432, latest complete epoch: 29262\n",
      "latest block root: e97d41f3761a047fdeda4b9803210bfe3cb451a064b141f79ac76655f2c28c36\n"
     ]
    }
   ],
   "source": [
    "# basic info about the dataset\n",
    "cursor.execute(\"SELECT MAX(f_slot) FROM t_blocks\")\n",
    "latest_slot = cursor.fetchone()[0]\n",
    "n_slots = latest_slot + 1\n",
    "n_epochs = (n_slots - (n_slots % 32)) // 32\n",
    "print(f\"latest slot: {latest_slot}, latest complete epoch: {n_epochs - 1}\")\n",
    "\n",
    "cursor.execute(\"SELECT f_slot, f_root FROM t_blocks ORDER BY f_slot DESC LIMIT 1\")\n",
    "latest_block = cursor.fetchone()\n",
    "slot, root = latest_block[0], latest_block[1].hex()\n",
    "print(f\"latest block root: {root}\")"
   ]
  },
  {
   "cell_type": "code",
   "execution_count": 11,
   "metadata": {
    "code_folding": [
     0
    ]
   },
   "outputs": [],
   "source": [
    "# get info about dataset and validators\n",
    "\n",
    "cursor.execute(\"SELECT MAX(f_slot) FROM t_blocks\")\n",
    "latest_slot = cursor.fetchone()[0]\n",
    "n_slots = latest_slot + 1\n",
    "n_epochs = (n_slots - (n_slots % 32)) // 32\n",
    "\n",
    "cursor.execute(\"SELECT f_activation_eligibility_epoch, f_activation_epoch, f_exit_epoch, f_slashed \"\n",
    "               \"FROM t_validators ORDER BY f_index\")\n",
    "result = cursor.fetchall()\n",
    "validators = [{\"activation_eligibility_epoch\": r[0],\n",
    "               \"activation_epoch\"            : r[1],\n",
    "               \"exit_epoch\"                  : r[2],\n",
    "               \"slashed\"                     : r[3]} for r in result]"
   ]
  },
  {
   "cell_type": "code",
   "execution_count": null,
   "metadata": {
    "code_folding": [
     0
    ]
   },
   "outputs": [],
   "source": [
    "# get validator status by epoch - waiting, active, exited, slashed\n",
    "start_time = time.time()\n",
    "\n",
    "waiting_count = [0] * n_epochs\n",
    "active_count  = [0] * n_epochs\n",
    "slashed_count = [0] * n_epochs\n",
    "exited_count  = [0] * n_epochs\n",
    "\n",
    "for epoch in range(n_epochs):\n",
    "    for validator in validators:\n",
    "        if epoch >= validator[\"activation_eligibility_epoch\"] and epoch < validator[\"activation_epoch\"]:\n",
    "            waiting_count[epoch] += 1\n",
    "        elif validator[\"exit_epoch\"] != -1 and epoch >= validator[\"exit_epoch\"] :\n",
    "            if validator[\"slashed\"]:\n",
    "                slashed_count[epoch] += 1\n",
    "            else:\n",
    "                exited_count[epoch] += 1\n",
    "        elif epoch >= validator[\"activation_epoch\"]:\n",
    "            active_count[epoch] += 1\n",
    "\n",
    "    seconds = time.time() - start_time\n",
    "    elapsed = time.strftime(\"%H:%M:%S\",time.gmtime(seconds))\n",
    "    left = time.strftime(\"%H:%M:%S\",time.gmtime(seconds * ((n_epochs) / (epoch+1)-1)))\n",
    "    percentage = 100*(epoch+1)/n_epochs\n",
    "    print(f\"epoch {epoch} of {n_epochs-1} ({percentage:.2f}%) / {elapsed} elapsed / {left} left\", end='\\r')\n",
    "\n",
    "print(f\"completed in {elapsed}\" + ' ' * 50)       \n",
    "\n",
    "status_data = pd.DataFrame({'waiting': waiting_count, 'active': active_count,\n",
    "                            'exited': exited_count, 'slashed': slashed_count})"
   ]
  },
  {
   "cell_type": "code",
   "execution_count": 15,
   "metadata": {},
   "outputs": [
    {
     "data": {
      "image/png": "[encoded data removed]",
      "text/plain": [
       "<Figure size 864x576 with 1 Axes>"
      ]
     },
     "metadata": {
      "needs_background": "light"
     },
     "output_type": "display_data"
    }
   ],
   "source": [
    "# draw validator status stacked area plot\n",
    "fig=plt.figure(figsize=(12,8))\n",
    "plt.stackplot(range(len(status_data.index)), status_data['active'], status_data['slashed'],\n",
    "              status_data['exited'], status_data['waiting'],labels=['active','slashed','exited','waiting'],\n",
    "              colors=['tab:blue','tab:red','tab:green','tab:orange'])\n",
    "plt.legend(loc='right')\n",
    "plt.margins(0,0)\n",
    "plt.title('Validator status')\n",
    "plt.xlabel('epoch')\n",
    "plt.ylabel('number of validators')\n",
    "plt.show()"
   ]
  },
  {
   "cell_type": "code",
   "execution_count": 19,
   "metadata": {},
   "outputs": [
    {
     "name": "stdout",
     "output_type": "stream",
     "text": [
      "133\n",
      "10\n"
     ]
    }
   ],
   "source": [
    "print(status_data['slashed'].iloc[-1])\n",
    "print(status_data['exited'].iloc[-1])"
   ]
  },
  {
   "cell_type": "code",
   "execution_count": 22,
   "metadata": {
    "code_folding": []
   },
   "outputs": [
    {
     "name": "stdout",
     "output_type": "stream",
     "text": [
      "Minimum exited validator effective balance: 32 ETH\n",
      "Non-slashed validator balance (min, max): (31, 32) ETH\n",
      "Slashed validator balance (min, max): (31, 32) ETH\n",
      "52 validators have an effective balance of less than 32 ETH\n"
     ]
    },
    {
     "data": {
      "image/png": "[encoded data removed]",
      "text/plain": [
       "<Figure size 864x576 with 1 Axes>"
      ]
     },
     "metadata": {
      "needs_background": "light"
     },
     "output_type": "display_data"
    }
   ],
   "source": [
    "# show effective balances\n",
    "\n",
    "cursor.execute(f\"SELECT MIN(f_effective_balance) FROM t_validator_balances \"\n",
    "               f\"WHERE f_validator_index IN \"\n",
    "               f\"(SELECT f_index FROM t_validators WHERE f_exit_epoch != -1 AND NOT f_slashed)\"\n",
    "               f\"AND f_epoch = {n_epochs-1}\")\n",
    "\n",
    "min_balance = cursor.fetchone()[0] * 10**-9\n",
    "print(f\"Minimum exited validator effective balance: {int(min_balance)} ETH\")\n",
    "\n",
    "cursor.execute(f\"SELECT f_effective_balance FROM t_validator_balances WHERE f_validator_index IN\"\n",
    "               f\"(SELECT f_index FROM t_validators WHERE NOT f_slashed  AND f_activation_epoch != -1)\"\n",
    "               f\"AND f_epoch = {n_epochs-1}\")\n",
    "eff_balances = pd.Series([b[0]*10**-9 for b in cursor.fetchall()], name='non-slashed')\n",
    "\n",
    "cursor.execute(f\"SELECT f_effective_balance FROM t_validator_balances WHERE f_validator_index IN\"\n",
    "               f\"(SELECT f_index FROM t_validators WHERE f_slashed)\"\n",
    "               f\"AND f_epoch = {n_epochs-1}\")\n",
    "eff_balances_slashed = pd.Series([b[0]*10**-9 for b in cursor.fetchall()], name='slashed')\n",
    "\n",
    "print(f\"Non-slashed validator balance (min, max): \"\n",
    "      f\"({int(eff_balances.min())}, {int(eff_balances.max())}) ETH\")\n",
    "print(f\"Slashed validator balance (min, max): \"\n",
    "      f\"({int(eff_balances_slashed.min())}, {int(eff_balances_slashed.max())}) ETH\")\n",
    "\n",
    "fig=plt.figure(figsize=(12,8))\n",
    "eff_balances.plot.hist(bins=range(0,35))\n",
    "eff_balances_slashed.plot.hist(bins=range(0,35))\n",
    "plt.legend(loc='upper left')\n",
    "plt.xlabel('effective balance (ETH)')\n",
    "plt.title(f\"Validator effective balances at epoch {n_epochs-1}\")\n",
    "plt.xlim(0,34)\n",
    "\n",
    "cursor.execute(f\"SELECT COUNT(*) FROM t_validator_balances WHERE f_validator_index IN \"\n",
    "               f\"(SELECT f_index FROM t_validators WHERE NOT f_slashed AND f_activation_epoch != -1 \"\n",
    "               f\"AND f_effective_balance < 32000000000) AND f_epoch = {n_epochs-1}\")\n",
    "n_reduced_balance = cursor.fetchone()[0]\n",
    "\n",
    "print(f\"{n_reduced_balance} validators have an effective balance of less than 32 ETH\")"
   ]
  },
  {
   "cell_type": "code",
   "execution_count": null,
   "metadata": {},
   "outputs": [],
   "source": []
  }
 ],
 "metadata": {
  "kernelspec": {
   "display_name": "Python 3",
   "language": "python",
   "name": "python3"
  },
  "language_info": {
   "codemirror_mode": {
    "name": "ipython",
    "version": 3
   },
   "file_extension": ".py",
   "mimetype": "text/x-python",
   "name": "python",
   "nbconvert_exporter": "python",
   "pygments_lexer": "ipython3",
   "version": "3.8.5"
  }
 },
 "nbformat": 4,
 "nbformat_minor": 4
}
